{
 "cells": [
  {
   "cell_type": "code",
   "execution_count": null,
   "metadata": {},
   "outputs": [],
   "source": [
    "!pip install opendatagen --upgrade --force-reinstall\n",
    "!pip install matplotlib"
   ]
  },
  {
   "cell_type": "code",
   "execution_count": null,
   "metadata": {},
   "outputs": [],
   "source": [
    "from opendatagen.data_generator import DataGenerator\n",
    "from opendatagen.template import TemplateManager\n",
    "\n",
    "\n",
    "template_file_path = \"template.json\"\n",
    "template_name = \"humanrights\"\n",
    "output_path = \"benchmark.csv\"\n",
    "output_decontaminated_path = None \n",
    "\n",
    "manager = TemplateManager(template_file_path=template_file_path)\n",
    "template = manager.get_template(template_name=template_name)\n",
    "\n",
    "if template:\n",
    "        \n",
    "    generator = DataGenerator(template=template)\n",
    "    \n",
    "    data, data_decontaminated = generator.generate_data(output_path=output_path, output_decontaminated_path=output_decontaminated_path)\n",
    "    "
   ]
  },
  {
   "cell_type": "code",
   "execution_count": 13,
   "metadata": {},
   "outputs": [],
   "source": [
    "from opendatagen.model import OpenAIEmbeddingModel, OpenAIChatModel\n",
    "from opendatagen.utils import cosine_similarity\n",
    "import pandas as pd\n",
    "import matplotlib.pyplot as plt\n",
    "\n",
    "# Constants\n",
    "N_FIRST = 3\n",
    "MIN_WORDS = 200\n",
    "EMBEDDING_MODELS = [\n",
    "    (\"text-embedding-ada-002\", \"Text Embedding ada-v2\"),\n",
    "    (\"text-embedding-3-small\", \"Text Embedding 3 small\"),\n",
    "    (\"text-embedding-3-large\", \"Text Embedding 3 large\")\n",
    "]\n",
    "\n",
    "\n",
    "# Chat Model and Evaluator Model\n",
    "CHAT_MODEL = OpenAIChatModel(name=\"gpt-3.5-turbo\", temperature=[0], max_tokens=256)\n",
    "EVALUATOR_MODEL = OpenAIChatModel(name=\"gpt-4-1106-preview\", temperature=[0], max_tokens=64, seed=123)\n",
    "\n",
    "# Function to split text into chunks of at least n words\n",
    "def chunk_text(text, min_words):\n",
    "    words = text.split()\n",
    "    chunks = [' '.join(words[i:i + min_words]) for i in range(0, len(words), min_words)]\n",
    "    return chunks\n",
    "\n",
    "# Function to generate embeddings for each chunk\n",
    "def generate_embeddings(embedding_model, chunks):\n",
    "    embeddings_dict = {}\n",
    "    for chunk in chunks:\n",
    "        if chunk.strip():\n",
    "            embeddings_dict[chunk] = embedding_model.create_embedding(prompt=chunk)\n",
    "    return embeddings_dict\n",
    "\n",
    "# Read and chunk the text document\n",
    "with open('document.txt', 'r') as file:\n",
    "    data = file.read()\n",
    "chunks = chunk_text(data, MIN_WORDS)\n",
    "\n",
    "# Generate embeddings for all models\n",
    "model_embeddings = {}\n",
    "for model_name, _ in EMBEDDING_MODELS:\n",
    "    embedding_model = OpenAIEmbeddingModel(name=model_name)\n",
    "    embeddings_dict = generate_embeddings(embedding_model, chunks)\n",
    "    model_embeddings[model_name] = embeddings_dict\n",
    "\n",
    "# Read the benchmark data\n",
    "df = pd.read_csv(\"benchmark.csv\")\n"
   ]
  },
  {
   "cell_type": "code",
   "execution_count": null,
   "metadata": {},
   "outputs": [],
   "source": [
    "# Continue with the functions and evaluation from your original code\n",
    "\n",
    "# Function to find n nearest chunks based on cosine similarity\n",
    "def n_nearest_chunks(question, embeddings_dict, embedding_model, n):\n",
    "    question_embedding = embedding_model.create_embedding(prompt=question)\n",
    "    similarities = {chunk: cosine_similarity(question_embedding, emb) for chunk, emb in embeddings_dict.items()}\n",
    "    return sorted(similarities.items(), key=lambda item: item[1], reverse=True)[:n]\n",
    "\n",
    "# Function to process each question, generate an answer, and evaluate the response\n",
    "def process_questions(df, embeddings_dict, embedding_model):\n",
    "    true_count = 0\n",
    "    total_questions = len(df)\n",
    "    for _, row in df.iterrows():\n",
    "        question, correct_answer = row['question'], row['answer']\n",
    "        nearest_chunks = n_nearest_chunks(question, embeddings_dict, embedding_model, N_FIRST)\n",
    "        content_nearest_chunks = '\\n\\n'.join([chunk[0] for chunk in nearest_chunks])\n",
    "        messages = [\n",
    "            {\"role\": \"system\", \"content\": \"Answer the question concisely.\"},\n",
    "            {\"role\": \"user\", \"content\": f\"Question:\\n{question}\\nHere is some text that can help you:\\n'''\\n{content_nearest_chunks}\\n'''\"}\n",
    "        ]\n",
    "        answer = CHAT_MODEL.ask(messages=messages)\n",
    "        messages_evaluator = [\n",
    "            {\"role\": \"system\", \"content\": \"You are EvaluatorGPT and will say if the Answer is 'True' or 'False' given the 'Correct answer' provided\"},\n",
    "            {\"role\": \"user\", \"content\": f\"Answer:\\n{answer}\\n\\nCorrect answer:\\n'''\\n{correct_answer}\\n'''\"}\n",
    "        ]\n",
    "        evaluation = EVALUATOR_MODEL.ask(messages=messages_evaluator)\n",
    "        if evaluation.lower().strip() == \"true\":\n",
    "            true_count += 1\n",
    "        else:\n",
    "            print(evaluation.lower().strip())\n",
    "\n",
    "    return true_count, total_questions\n",
    "\n",
    "# Function to evaluate responses for each embedding model\n",
    "def evaluate_responses(models, df, model_embeddings):\n",
    "    results = {}\n",
    "    for model_name, model_label in models:\n",
    "        embeddings_dict = model_embeddings[model_name]\n",
    "        embedding_model = OpenAIEmbeddingModel(name=model_name)\n",
    "        true_count, total_questions = process_questions(df, embeddings_dict, embedding_model)\n",
    "        results[model_label] = (true_count / total_questions) * 100\n",
    "    return results\n",
    "\n",
    "# Evaluation\n",
    "percentages = evaluate_responses(EMBEDDING_MODELS, df, model_embeddings)\n",
    "\n",
    "\n"
   ]
  },
  {
   "cell_type": "code",
   "execution_count": 15,
   "metadata": {},
   "outputs": [
    {
     "name": "stdout",
     "output_type": "stream",
     "text": [
      "{'Text Embedding ada-v2': 92.85714285714286, 'Text Embedding 3 small': 96.42857142857143, 'Text Embedding 3 large': 92.85714285714286}\n"
     ]
    },
    {
     "data": {
      "image/png": "[encoded data removed]",
      "text/plain": [
       "<Figure size 640x480 with 1 Axes>"
      ]
     },
     "metadata": {},
     "output_type": "display_data"
    }
   ],
   "source": [
    "# Plotting\n",
    "\n",
    "print(percentages)\n",
    "\n",
    "plt.bar(percentages.keys(), percentages.values(), color=['blue', 'green', 'red'])\n",
    "plt.title('Percentage of True Responses by Model')\n",
    "plt.xlabel('Model')\n",
    "plt.ylabel('Percentage of True Responses')\n",
    "plt.show()"
   ]
  },
  {
   "cell_type": "code",
   "execution_count": null,
   "metadata": {},
   "outputs": [],
   "source": []
  }
 ],
 "metadata": {
  "kernelspec": {
   "display_name": "openenv",
   "language": "python",
   "name": "python3"
  },
  "language_info": {
   "codemirror_mode": {
    "name": "ipython",
    "version": 3
   },
   "file_extension": ".py",
   "mimetype": "text/x-python",
   "name": "python",
   "nbconvert_exporter": "python",
   "pygments_lexer": "ipython3",
   "version": "3.9.18"
  }
 },
 "nbformat": 4,
 "nbformat_minor": 2
}
