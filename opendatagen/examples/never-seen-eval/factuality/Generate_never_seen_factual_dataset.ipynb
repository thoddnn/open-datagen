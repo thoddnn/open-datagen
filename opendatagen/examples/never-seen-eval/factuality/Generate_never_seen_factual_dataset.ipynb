{
 "cells": [
  {
   "cell_type": "code",
   "execution_count": 3,
   "metadata": {},
   "outputs": [
    {
     "name": "stdout",
     "output_type": "stream",
     "text": [
      "Found existing installation: opendatagen 0.0.22\n",
      "Uninstalling opendatagen-0.0.22:\n",
      "  Successfully uninstalled opendatagen-0.0.22\n"
     ]
    }
   ],
   "source": [
    "!pip uninstall opendatagen -y"
   ]
  },
  {
   "cell_type": "code",
   "execution_count": 10,
   "metadata": {},
   "outputs": [
    {
     "name": "stdout",
     "output_type": "stream",
     "text": [
      "Requirement already satisfied: opendatagen in /Users/thomas/Desktop/OpenDataGen/mvp/opendatagen/.conda/lib/python3.9/site-packages (0.0.22)\n",
      "Requirement already satisfied: openai>=1.5.0 in /Users/thomas/Desktop/OpenDataGen/mvp/opendatagen/.conda/lib/python3.9/site-packages (from opendatagen) (1.5.0)\n",
      "Requirement already satisfied: python-dotenv>=0.17.1 in /Users/thomas/Desktop/OpenDataGen/mvp/opendatagen/.conda/lib/python3.9/site-packages (from opendatagen) (1.0.0)\n",
      "Requirement already satisfied: numpy>=1.23.4 in /Users/thomas/Desktop/OpenDataGen/mvp/opendatagen/.conda/lib/python3.9/site-packages (from opendatagen) (1.26.2)\n",
      "Requirement already satisfied: trafilatura>=0.9.1 in /Users/thomas/Desktop/OpenDataGen/mvp/opendatagen/.conda/lib/python3.9/site-packages (from opendatagen) (1.6.3)\n",
      "Requirement already satisfied: requests>=2.29.0 in /Users/thomas/Desktop/OpenDataGen/mvp/opendatagen/.conda/lib/python3.9/site-packages (from opendatagen) (2.31.0)\n",
      "Requirement already satisfied: tenacity>=8.2.2 in /Users/thomas/Desktop/OpenDataGen/mvp/opendatagen/.conda/lib/python3.9/site-packages (from opendatagen) (8.2.3)\n",
      "Requirement already satisfied: pydantic>=2 in /Users/thomas/Desktop/OpenDataGen/mvp/opendatagen/.conda/lib/python3.9/site-packages (from opendatagen) (2.5.2)\n",
      "Requirement already satisfied: spacy>=3 in /Users/thomas/Desktop/OpenDataGen/mvp/opendatagen/.conda/lib/python3.9/site-packages (from opendatagen) (3.7.2)\n",
      "Requirement already satisfied: tiktoken>=0.5 in /Users/thomas/Desktop/OpenDataGen/mvp/opendatagen/.conda/lib/python3.9/site-packages (from opendatagen) (0.5.2)\n",
      "Requirement already satisfied: PyPDF2>=3 in /Users/thomas/Desktop/OpenDataGen/mvp/opendatagen/.conda/lib/python3.9/site-packages (from opendatagen) (3.0.1)\n",
      "Requirement already satisfied: pandas>=2 in /Users/thomas/Desktop/OpenDataGen/mvp/opendatagen/.conda/lib/python3.9/site-packages (from opendatagen) (2.1.4)\n",
      "Requirement already satisfied: datasets>=2 in /Users/thomas/Desktop/OpenDataGen/mvp/opendatagen/.conda/lib/python3.9/site-packages (from opendatagen) (2.15.0)\n",
      "Requirement already satisfied: mistralai in /Users/thomas/Desktop/OpenDataGen/mvp/opendatagen/.conda/lib/python3.9/site-packages (from opendatagen) (0.0.8)\n",
      "Requirement already satisfied: jsonschema in /Users/thomas/Desktop/OpenDataGen/mvp/opendatagen/.conda/lib/python3.9/site-packages (from opendatagen) (4.20.0)\n",
      "Requirement already satisfied: pyarrow>=8.0.0 in /Users/thomas/Desktop/OpenDataGen/mvp/opendatagen/.conda/lib/python3.9/site-packages (from datasets>=2->opendatagen) (14.0.1)\n",
      "Requirement already satisfied: pyarrow-hotfix in /Users/thomas/Desktop/OpenDataGen/mvp/opendatagen/.conda/lib/python3.9/site-packages (from datasets>=2->opendatagen) (0.6)\n",
      "Requirement already satisfied: dill<0.3.8,>=0.3.0 in /Users/thomas/Desktop/OpenDataGen/mvp/opendatagen/.conda/lib/python3.9/site-packages (from datasets>=2->opendatagen) (0.3.7)\n",
      "Requirement already satisfied: tqdm>=4.62.1 in /Users/thomas/Desktop/OpenDataGen/mvp/opendatagen/.conda/lib/python3.9/site-packages (from datasets>=2->opendatagen) (4.66.1)\n",
      "Requirement already satisfied: xxhash in /Users/thomas/Desktop/OpenDataGen/mvp/opendatagen/.conda/lib/python3.9/site-packages (from datasets>=2->opendatagen) (3.4.1)\n",
      "Requirement already satisfied: multiprocess in /Users/thomas/Desktop/OpenDataGen/mvp/opendatagen/.conda/lib/python3.9/site-packages (from datasets>=2->opendatagen) (0.70.15)\n",
      "Requirement already satisfied: fsspec<=2023.10.0,>=2023.1.0 in /Users/thomas/Desktop/OpenDataGen/mvp/opendatagen/.conda/lib/python3.9/site-packages (from fsspec[http]<=2023.10.0,>=2023.1.0->datasets>=2->opendatagen) (2023.10.0)\n",
      "Requirement already satisfied: aiohttp in /Users/thomas/Desktop/OpenDataGen/mvp/opendatagen/.conda/lib/python3.9/site-packages (from datasets>=2->opendatagen) (3.9.1)\n",
      "Requirement already satisfied: huggingface-hub>=0.18.0 in /Users/thomas/Desktop/OpenDataGen/mvp/opendatagen/.conda/lib/python3.9/site-packages (from datasets>=2->opendatagen) (0.19.4)\n",
      "Requirement already satisfied: packaging in /Users/thomas/Desktop/OpenDataGen/mvp/opendatagen/.conda/lib/python3.9/site-packages (from datasets>=2->opendatagen) (23.2)\n",
      "Requirement already satisfied: pyyaml>=5.1 in /Users/thomas/Desktop/OpenDataGen/mvp/opendatagen/.conda/lib/python3.9/site-packages (from datasets>=2->opendatagen) (6.0.1)\n",
      "Requirement already satisfied: anyio<5,>=3.5.0 in /Users/thomas/Desktop/OpenDataGen/mvp/opendatagen/.conda/lib/python3.9/site-packages (from openai>=1.5.0->opendatagen) (4.1.0)\n",
      "Requirement already satisfied: distro<2,>=1.7.0 in /Users/thomas/Desktop/OpenDataGen/mvp/opendatagen/.conda/lib/python3.9/site-packages (from openai>=1.5.0->opendatagen) (1.8.0)\n",
      "Requirement already satisfied: httpx<1,>=0.23.0 in /Users/thomas/Desktop/OpenDataGen/mvp/opendatagen/.conda/lib/python3.9/site-packages (from openai>=1.5.0->opendatagen) (0.25.2)\n",
      "Requirement already satisfied: sniffio in /Users/thomas/Desktop/OpenDataGen/mvp/opendatagen/.conda/lib/python3.9/site-packages (from openai>=1.5.0->opendatagen) (1.3.0)\n",
      "Requirement already satisfied: typing-extensions<5,>=4.5 in /Users/thomas/Desktop/OpenDataGen/mvp/opendatagen/.conda/lib/python3.9/site-packages (from openai>=1.5.0->opendatagen) (4.9.0)\n",
      "Requirement already satisfied: python-dateutil>=2.8.2 in /Users/thomas/Desktop/OpenDataGen/mvp/opendatagen/.conda/lib/python3.9/site-packages (from pandas>=2->opendatagen) (2.8.2)\n",
      "Requirement already satisfied: pytz>=2020.1 in /Users/thomas/Desktop/OpenDataGen/mvp/opendatagen/.conda/lib/python3.9/site-packages (from pandas>=2->opendatagen) (2023.3.post1)\n",
      "Requirement already satisfied: tzdata>=2022.1 in /Users/thomas/Desktop/OpenDataGen/mvp/opendatagen/.conda/lib/python3.9/site-packages (from pandas>=2->opendatagen) (2023.3)\n",
      "Requirement already satisfied: annotated-types>=0.4.0 in /Users/thomas/Desktop/OpenDataGen/mvp/opendatagen/.conda/lib/python3.9/site-packages (from pydantic>=2->opendatagen) (0.6.0)\n",
      "Requirement already satisfied: pydantic-core==2.14.5 in /Users/thomas/Desktop/OpenDataGen/mvp/opendatagen/.conda/lib/python3.9/site-packages (from pydantic>=2->opendatagen) (2.14.5)\n",
      "Requirement already satisfied: charset-normalizer<4,>=2 in /Users/thomas/Desktop/OpenDataGen/mvp/opendatagen/.conda/lib/python3.9/site-packages (from requests>=2.29.0->opendatagen) (3.3.2)\n",
      "Requirement already satisfied: idna<4,>=2.5 in /Users/thomas/Desktop/OpenDataGen/mvp/opendatagen/.conda/lib/python3.9/site-packages (from requests>=2.29.0->opendatagen) (3.6)\n",
      "Requirement already satisfied: urllib3<3,>=1.21.1 in /Users/thomas/Desktop/OpenDataGen/mvp/opendatagen/.conda/lib/python3.9/site-packages (from requests>=2.29.0->opendatagen) (2.1.0)\n",
      "Requirement already satisfied: certifi>=2017.4.17 in /Users/thomas/Desktop/OpenDataGen/mvp/opendatagen/.conda/lib/python3.9/site-packages (from requests>=2.29.0->opendatagen) (2023.11.17)\n",
      "Requirement already satisfied: spacy-legacy<3.1.0,>=3.0.11 in /Users/thomas/Desktop/OpenDataGen/mvp/opendatagen/.conda/lib/python3.9/site-packages (from spacy>=3->opendatagen) (3.0.12)\n",
      "Requirement already satisfied: spacy-loggers<2.0.0,>=1.0.0 in /Users/thomas/Desktop/OpenDataGen/mvp/opendatagen/.conda/lib/python3.9/site-packages (from spacy>=3->opendatagen) (1.0.5)\n",
      "Requirement already satisfied: murmurhash<1.1.0,>=0.28.0 in /Users/thomas/Desktop/OpenDataGen/mvp/opendatagen/.conda/lib/python3.9/site-packages (from spacy>=3->opendatagen) (1.0.10)\n",
      "Requirement already satisfied: cymem<2.1.0,>=2.0.2 in /Users/thomas/Desktop/OpenDataGen/mvp/opendatagen/.conda/lib/python3.9/site-packages (from spacy>=3->opendatagen) (2.0.8)\n",
      "Requirement already satisfied: preshed<3.1.0,>=3.0.2 in /Users/thomas/Desktop/OpenDataGen/mvp/opendatagen/.conda/lib/python3.9/site-packages (from spacy>=3->opendatagen) (3.0.9)\n",
      "Requirement already satisfied: thinc<8.3.0,>=8.1.8 in /Users/thomas/Desktop/OpenDataGen/mvp/opendatagen/.conda/lib/python3.9/site-packages (from spacy>=3->opendatagen) (8.2.1)\n",
      "Requirement already satisfied: wasabi<1.2.0,>=0.9.1 in /Users/thomas/Desktop/OpenDataGen/mvp/opendatagen/.conda/lib/python3.9/site-packages (from spacy>=3->opendatagen) (1.1.2)\n",
      "Requirement already satisfied: srsly<3.0.0,>=2.4.3 in /Users/thomas/Desktop/OpenDataGen/mvp/opendatagen/.conda/lib/python3.9/site-packages (from spacy>=3->opendatagen) (2.4.8)\n",
      "Requirement already satisfied: catalogue<2.1.0,>=2.0.6 in /Users/thomas/Desktop/OpenDataGen/mvp/opendatagen/.conda/lib/python3.9/site-packages (from spacy>=3->opendatagen) (2.0.10)\n",
      "Requirement already satisfied: weasel<0.4.0,>=0.1.0 in /Users/thomas/Desktop/OpenDataGen/mvp/opendatagen/.conda/lib/python3.9/site-packages (from spacy>=3->opendatagen) (0.3.4)\n",
      "Requirement already satisfied: typer<0.10.0,>=0.3.0 in /Users/thomas/Desktop/OpenDataGen/mvp/opendatagen/.conda/lib/python3.9/site-packages (from spacy>=3->opendatagen) (0.9.0)\n",
      "Requirement already satisfied: smart-open<7.0.0,>=5.2.1 in /Users/thomas/Desktop/OpenDataGen/mvp/opendatagen/.conda/lib/python3.9/site-packages (from spacy>=3->opendatagen) (6.4.0)\n",
      "Requirement already satisfied: jinja2 in /Users/thomas/Desktop/OpenDataGen/mvp/opendatagen/.conda/lib/python3.9/site-packages (from spacy>=3->opendatagen) (3.1.2)\n",
      "Requirement already satisfied: setuptools in /Users/thomas/Desktop/OpenDataGen/mvp/opendatagen/.conda/lib/python3.9/site-packages (from spacy>=3->opendatagen) (69.0.2)\n",
      "Requirement already satisfied: langcodes<4.0.0,>=3.2.0 in /Users/thomas/Desktop/OpenDataGen/mvp/opendatagen/.conda/lib/python3.9/site-packages (from spacy>=3->opendatagen) (3.3.0)\n",
      "Requirement already satisfied: regex>=2022.1.18 in /Users/thomas/Desktop/OpenDataGen/mvp/opendatagen/.conda/lib/python3.9/site-packages (from tiktoken>=0.5->opendatagen) (2023.10.3)\n",
      "Requirement already satisfied: courlan>=0.9.5 in /Users/thomas/Desktop/OpenDataGen/mvp/opendatagen/.conda/lib/python3.9/site-packages (from trafilatura>=0.9.1->opendatagen) (0.9.5)\n",
      "Requirement already satisfied: htmldate>=1.6.0 in /Users/thomas/Desktop/OpenDataGen/mvp/opendatagen/.conda/lib/python3.9/site-packages (from trafilatura>=0.9.1->opendatagen) (1.6.0)\n",
      "Requirement already satisfied: justext>=3.0.0 in /Users/thomas/Desktop/OpenDataGen/mvp/opendatagen/.conda/lib/python3.9/site-packages (from trafilatura>=0.9.1->opendatagen) (3.0.0)\n",
      "Requirement already satisfied: lxml==4.9.2 in /Users/thomas/Desktop/OpenDataGen/mvp/opendatagen/.conda/lib/python3.9/site-packages (from trafilatura>=0.9.1->opendatagen) (4.9.2)\n",
      "Requirement already satisfied: attrs>=22.2.0 in /Users/thomas/Desktop/OpenDataGen/mvp/opendatagen/.conda/lib/python3.9/site-packages (from jsonschema->opendatagen) (23.1.0)\n",
      "Requirement already satisfied: jsonschema-specifications>=2023.03.6 in /Users/thomas/Desktop/OpenDataGen/mvp/opendatagen/.conda/lib/python3.9/site-packages (from jsonschema->opendatagen) (2023.11.2)\n",
      "Requirement already satisfied: referencing>=0.28.4 in /Users/thomas/Desktop/OpenDataGen/mvp/opendatagen/.conda/lib/python3.9/site-packages (from jsonschema->opendatagen) (0.32.0)\n",
      "Requirement already satisfied: rpds-py>=0.7.1 in /Users/thomas/Desktop/OpenDataGen/mvp/opendatagen/.conda/lib/python3.9/site-packages (from jsonschema->opendatagen) (0.13.2)\n",
      "Requirement already satisfied: backoff<3.0.0,>=2.2.1 in /Users/thomas/Desktop/OpenDataGen/mvp/opendatagen/.conda/lib/python3.9/site-packages (from mistralai->opendatagen) (2.2.1)\n",
      "Requirement already satisfied: orjson<4.0.0,>=3.9.10 in /Users/thomas/Desktop/OpenDataGen/mvp/opendatagen/.conda/lib/python3.9/site-packages (from mistralai->opendatagen) (3.9.10)\n",
      "Requirement already satisfied: multidict<7.0,>=4.5 in /Users/thomas/Desktop/OpenDataGen/mvp/opendatagen/.conda/lib/python3.9/site-packages (from aiohttp->datasets>=2->opendatagen) (6.0.4)\n",
      "Requirement already satisfied: yarl<2.0,>=1.0 in /Users/thomas/Desktop/OpenDataGen/mvp/opendatagen/.conda/lib/python3.9/site-packages (from aiohttp->datasets>=2->opendatagen) (1.9.4)\n",
      "Requirement already satisfied: frozenlist>=1.1.1 in /Users/thomas/Desktop/OpenDataGen/mvp/opendatagen/.conda/lib/python3.9/site-packages (from aiohttp->datasets>=2->opendatagen) (1.4.0)\n",
      "Requirement already satisfied: aiosignal>=1.1.2 in /Users/thomas/Desktop/OpenDataGen/mvp/opendatagen/.conda/lib/python3.9/site-packages (from aiohttp->datasets>=2->opendatagen) (1.3.1)\n",
      "Requirement already satisfied: async-timeout<5.0,>=4.0 in /Users/thomas/Desktop/OpenDataGen/mvp/opendatagen/.conda/lib/python3.9/site-packages (from aiohttp->datasets>=2->opendatagen) (4.0.3)\n",
      "Requirement already satisfied: exceptiongroup>=1.0.2 in /Users/thomas/Desktop/OpenDataGen/mvp/opendatagen/.conda/lib/python3.9/site-packages (from anyio<5,>=3.5.0->openai>=1.5.0->opendatagen) (1.2.0)\n",
      "Requirement already satisfied: tld>=0.13 in /Users/thomas/Desktop/OpenDataGen/mvp/opendatagen/.conda/lib/python3.9/site-packages (from courlan>=0.9.5->trafilatura>=0.9.1->opendatagen) (0.13)\n",
      "Requirement already satisfied: dateparser>=1.1.2 in /Users/thomas/Desktop/OpenDataGen/mvp/opendatagen/.conda/lib/python3.9/site-packages (from htmldate>=1.6.0->trafilatura>=0.9.1->opendatagen) (1.2.0)\n",
      "Requirement already satisfied: httpcore==1.* in /Users/thomas/Desktop/OpenDataGen/mvp/opendatagen/.conda/lib/python3.9/site-packages (from httpx<1,>=0.23.0->openai>=1.5.0->opendatagen) (1.0.2)\n",
      "Requirement already satisfied: h11<0.15,>=0.13 in /Users/thomas/Desktop/OpenDataGen/mvp/opendatagen/.conda/lib/python3.9/site-packages (from httpcore==1.*->httpx<1,>=0.23.0->openai>=1.5.0->opendatagen) (0.14.0)\n",
      "Requirement already satisfied: filelock in /Users/thomas/Desktop/OpenDataGen/mvp/opendatagen/.conda/lib/python3.9/site-packages (from huggingface-hub>=0.18.0->datasets>=2->opendatagen) (3.13.1)\n",
      "Requirement already satisfied: six>=1.5 in /Users/thomas/Desktop/OpenDataGen/mvp/opendatagen/.conda/lib/python3.9/site-packages (from python-dateutil>=2.8.2->pandas>=2->opendatagen) (1.16.0)\n",
      "Requirement already satisfied: blis<0.8.0,>=0.7.8 in /Users/thomas/Desktop/OpenDataGen/mvp/opendatagen/.conda/lib/python3.9/site-packages (from thinc<8.3.0,>=8.1.8->spacy>=3->opendatagen) (0.7.11)\n",
      "Requirement already satisfied: confection<1.0.0,>=0.0.1 in /Users/thomas/Desktop/OpenDataGen/mvp/opendatagen/.conda/lib/python3.9/site-packages (from thinc<8.3.0,>=8.1.8->spacy>=3->opendatagen) (0.1.4)\n",
      "Requirement already satisfied: click<9.0.0,>=7.1.1 in /Users/thomas/Desktop/OpenDataGen/mvp/opendatagen/.conda/lib/python3.9/site-packages (from typer<0.10.0,>=0.3.0->spacy>=3->opendatagen) (8.1.7)\n",
      "Requirement already satisfied: cloudpathlib<0.17.0,>=0.7.0 in /Users/thomas/Desktop/OpenDataGen/mvp/opendatagen/.conda/lib/python3.9/site-packages (from weasel<0.4.0,>=0.1.0->spacy>=3->opendatagen) (0.16.0)\n",
      "Requirement already satisfied: MarkupSafe>=2.0 in /Users/thomas/Desktop/OpenDataGen/mvp/opendatagen/.conda/lib/python3.9/site-packages (from jinja2->spacy>=3->opendatagen) (2.1.3)\n",
      "Requirement already satisfied: tzlocal in /Users/thomas/Desktop/OpenDataGen/mvp/opendatagen/.conda/lib/python3.9/site-packages (from dateparser>=1.1.2->htmldate>=1.6.0->trafilatura>=0.9.1->opendatagen) (5.2)\n"
     ]
    }
   ],
   "source": [
    "!pip install opendatagen --upgrade\n",
    "!pip install matplotlib"
   ]
  },
  {
   "cell_type": "code",
   "execution_count": 6,
   "metadata": {},
   "outputs": [],
   "source": [
    "from opendatagen.data_generator import DataGenerator\n",
    "from opendatagen.model import OpenAIChatModel, MistralChatModel\n",
    "from opendatagen.template import TemplateManager\n",
    "from mistralai.models.chat_completion import ChatMessage\n",
    "\n",
    "template_file_path = \"template.json\"\n",
    "template_name = \"factuality\"\n",
    "output_path = \"factuality.csv\"\n",
    "\n",
    "manager = TemplateManager(template_file_path=template_file_path)\n",
    "\n",
    "template = manager.get_template(template_name=template_name)\n",
    "\n",
    "if template:\n",
    "    \n",
    "    generator = DataGenerator(template=template)\n",
    "    \n",
    "    data = generator.generate_data(output_path=output_path)\n",
    "    "
   ]
  },
  {
   "cell_type": "code",
   "execution_count": 7,
   "metadata": {},
   "outputs": [
    {
     "name": "stdout",
     "output_type": "stream",
     "text": [
      "Processing 1/1\n",
      "true\n",
      "true\n",
      "true\n",
      "true\n",
      "Model mistral7b: 100.00% True answers\n",
      "Model mistra8x7b: 100.00% True answers\n",
      "Model mistraX: 100.00% True answers\n",
      "Model GPT35: 100.00% True answers\n"
     ]
    }
   ],
   "source": [
    "import pandas as pd \n",
    "\n",
    "# Assuming 'factuality.csv' is in the same folder and has columns 'question' and 'answer'\n",
    "df = pd.read_csv('factuality.csv')\n",
    "\n",
    "# Initialize counters for each model\n",
    "true_counts = {'mistral7b': 0, 'mistra8x7b': 0, 'mistraX': 0, 'GPT35': 0}\n",
    "total_counts = {'mistral7b': 0, 'mistra8x7b': 0, 'mistraX': 0, 'GPT35': 0}\n",
    "\n",
    "for index, row in df.iterrows():\n",
    "\n",
    "    print(f\"Processing {index + 1}/{len(df)}\")\n",
    "\n",
    "    question = row['question']\n",
    "    reference_answer = row['answer']\n",
    "\n",
    "    mistral7b = MistralChatModel(name=\"mistral-tiny\", max_tokens=64, temperature=[0])\n",
    "    mistra8x7b = MistralChatModel(name=\"mistral-small\", max_tokens=64, temperature=[0])\n",
    "    mistraX = MistralChatModel(name=\"mistral-medium\", max_tokens=64, temperature=[0])\n",
    "    gpt35 = OpenAIChatModel(name=\"gpt-3.5-turbo-1106\", max_tokens=64, temperature=[0])\n",
    "\n",
    "    system_prompt_evaluator = \"You are EvaluatorGPT, given the question and the reference answer please determine if the new answer is True or False. Only answer with 'True' or 'False'. No verbose.\"\n",
    "\n",
    "    messages = [ChatMessage(role=\"user\", content=f\"Answer accurately and consicely to the following question:\\n{question}\")]\n",
    "\n",
    "    gpt_messages = [\n",
    "            {\"role\":\"system\", \"content\": \"Answer to the question consicely.\"},\n",
    "            {\"role\":\"system\", \"content\": f\"Question:\\n{question}\"}\n",
    "        ]\n",
    "\n",
    "    answer7b = mistral7b.ask(messages=messages)\n",
    "    answer8x7b = mistra8x7b.ask(messages=messages)\n",
    "    answerX = mistraX.ask(messages=messages)\n",
    "    answergpt35 = gpt35.ask(messages=gpt_messages)\n",
    "\n",
    "    # For each model, evaluate the answer\n",
    "    for model_name, model_answer in [('mistral7b', answer7b), ('mistra8x7b', answer8x7b), ('mistraX', answerX), ('GPT35', answergpt35)]:\n",
    "\n",
    "        evaluator = OpenAIChatModel(name=\"gpt-4-1106-preview\", max_tokens=5, system_prompt=system_prompt_evaluator)\n",
    "\n",
    "        evaluator_messages = [\n",
    "            {\"role\":\"system\", \"content\": system_prompt_evaluator},\n",
    "            {\"role\":\"system\", \"content\": f\"Question:\\n{question}\\nReference answer:\\n{reference_answer}\\nNew answer:\\n{model_answer}\"}\n",
    "        ]\n",
    "\n",
    "        evaluator_answer = evaluator.ask(messages=evaluator_messages)\n",
    "        \n",
    "        print(evaluator_answer.lower())\n",
    "        \n",
    "        if evaluator_answer.lower() == \"true\":\n",
    "            true_counts[model_name] += 1\n",
    "        total_counts[model_name] += 1\n",
    "\n",
    "    # Calculate and display the results\n",
    "    for model_name in true_counts:\n",
    "        accuracy = (true_counts[model_name] / total_counts[model_name]) * 100\n",
    "        print(f\"Model {model_name}: {accuracy:.2f}% True answers\")"
   ]
  },
  {
   "cell_type": "code",
   "execution_count": 11,
   "metadata": {},
   "outputs": [
    {
     "data": {
      "image/png": "[encoded data removed]",
      "text/plain": [
       "<Figure size 640x480 with 1 Axes>"
      ]
     },
     "metadata": {},
     "output_type": "display_data"
    }
   ],
   "source": [
    "import matplotlib.pyplot as plt\n",
    "\n",
    "# Calculate accuracies\n",
    "accuracies = {model_name: (true_counts[model_name] / total_counts[model_name]) * 100 for model_name in true_counts}\n",
    "\n",
    "# Names of models\n",
    "model_names = list(accuracies.keys())\n",
    "\n",
    "# Accuracy values\n",
    "accuracy_values = list(accuracies.values())\n",
    "\n",
    "# Create a bar chart\n",
    "plt.bar(model_names, accuracy_values, color='skyblue')\n",
    "\n",
    "# Adding title and labels\n",
    "plt.title('Model Accuracy Comparison')\n",
    "plt.xlabel('Model Name')\n",
    "plt.ylabel('Accuracy (%)')\n",
    "\n",
    "# Show the plot\n",
    "plt.show()"
   ]
  },
  {
   "cell_type": "code",
   "execution_count": null,
   "metadata": {},
   "outputs": [],
   "source": []
  }
 ],
 "metadata": {
  "kernelspec": {
   "display_name": "Python 3",
   "language": "python",
   "name": "python3"
  },
  "language_info": {
   "codemirror_mode": {
    "name": "ipython",
    "version": 3
   },
   "file_extension": ".py",
   "mimetype": "text/x-python",
   "name": "python",
   "nbconvert_exporter": "python",
   "pygments_lexer": "ipython3",
   "version": "3.9.18"
  }
 },
 "nbformat": 4,
 "nbformat_minor": 2
}
