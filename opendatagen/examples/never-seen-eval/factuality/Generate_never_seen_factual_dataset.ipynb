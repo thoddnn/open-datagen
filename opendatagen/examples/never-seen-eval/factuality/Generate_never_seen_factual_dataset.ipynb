{
 "cells": [
  {
   "cell_type": "code",
   "execution_count": null,
   "metadata": {},
   "outputs": [],
   "source": [
    "!pip install opendatagen --upgrade --force-reinstall\n",
    "!pip install matplotlib"
   ]
  },
  {
   "cell_type": "code",
   "execution_count": null,
   "metadata": {},
   "outputs": [],
   "source": [
    "!export OPENAI_API_KEY='your_openai_api_key' \n",
    "!export MISTRAL_API_KEY='your_mistral_api_key'"
   ]
  },
  {
   "cell_type": "markdown",
   "metadata": {},
   "source": [
    "#Code to generate the dataset  \n",
    "\n",
    "from opendatagen.data_generator import DataGenerator\n",
    "from opendatagen.model import OpenAIChatModel, MistralChatModel\n",
    "from opendatagen.template import TemplateManager\n",
    "from mistralai.models.chat_completion import ChatMessage\n",
    "\n",
    "template_file_path = \"template.json\"\n",
    "template_name = \"factuality\"\n",
    "output_path = \"factuality.csv\"\n",
    "\n",
    "manager = TemplateManager(template_file_path=template_file_path)\n",
    "\n",
    "template = manager.get_template(template_name=template_name)\n",
    "\n",
    "if template:\n",
    "    \n",
    "    generator = DataGenerator(template=template)\n",
    "    \n",
    "    data = generator.generate_data(output_path=output_path)\n",
    "    "
   ]
  },
  {
   "cell_type": "code",
   "execution_count": null,
   "metadata": {},
   "outputs": [],
   "source": [
    "import pandas as pd \n",
    "from opendatagen.data_generator import DataGenerator\n",
    "from opendatagen.model import OpenAIChatModel, MistralChatModel\n",
    "from opendatagen.template import TemplateManager\n",
    "from mistralai.models.chat_completion import ChatMessage\n",
    "\n",
    "# Assuming 'factuality.csv' is in the same folder and has columns 'question' and 'answer'\n",
    "df = pd.read_csv('factuality.csv')\n",
    "\n",
    "# Initialize counters for each model\n",
    "true_counts = {'mistral-tiny': 0, 'mistral-small': 0, 'mistral-medium': 0, 'GPT35': 0}\n",
    "total_counts = {'mistral-tiny': 0, 'mistral-small': 0, 'mistral-medium': 0, 'GPT35': 0}\n",
    "\n",
    "for index, row in df.iterrows():\n",
    "\n",
    "    #print(f\"Processing {index + 1}/{len(df)}\")\n",
    "\n",
    "    question = row['question']\n",
    "    reference_answer = row['answer']\n",
    "    \n",
    "    mistral7b = MistralChatModel(name=\"mistral-tiny\", max_tokens=64, temperature=[0])\n",
    "    mistra8x7b = MistralChatModel(name=\"mistral-small\", max_tokens=64, temperature=[0])\n",
    "    mistraX = MistralChatModel(name=\"mistral-medium\", max_tokens=64, temperature=[0])\n",
    "    gpt35 = OpenAIChatModel(name=\"gpt-3.5-turbo-1106\", max_tokens=64, temperature=[0])\n",
    "\n",
    "    system_prompt_evaluator = \"You are EvaluatorGPT, given the question and the reference answer please determine if the new answer is True or False. Only answer with 'True' or 'False'. No verbose.\"\n",
    "\n",
    "    mistral_messages = [ChatMessage(role=\"user\", content=f\"Answer accurately and consicely to the following question:\\n{question}\")]\n",
    "\n",
    "    gpt_messages = [\n",
    "            {\"role\":\"system\", \"content\": \"Answer to the question consicely.\"},\n",
    "            {\"role\":\"system\", \"content\": f\"Question:\\n{question}\"}\n",
    "        ]\n",
    "\n",
    "    answer7b = mistral7b.ask(messages=mistral_messages)\n",
    "    answer8x7b = mistra8x7b.ask(messages=mistral_messages)\n",
    "    answerX = mistraX.ask(messages=mistral_messages)\n",
    "    answergpt35 = gpt35.ask(messages=gpt_messages)\n",
    "\n",
    "    # For each model, evaluate the answer\n",
    "    for model_name, model_answer in [('mistral-tiny', answer7b), ('mistral-small', answer8x7b), ('mistral-medium', answerX), ('GPT35', answergpt35)]:\n",
    "        \n",
    "        evaluator = OpenAIChatModel(name=\"gpt-4-1106-preview\", max_tokens=5, system_prompt=system_prompt_evaluator)\n",
    "        #evaluator = MistralChatModel(name=\"mistral-medium\", max_tokens=5, temperature=[0])\n",
    "\n",
    "        evaluator_messages = [\n",
    "            {\"role\":\"system\", \"content\": system_prompt_evaluator},\n",
    "            {\"role\":\"system\", \"content\": f\"Question:\\n{question}\\nReference answer:\\n{reference_answer}\\nNew answer:\\n{model_answer}\"}\n",
    "        ]\n",
    "        \n",
    "        '''\n",
    "        evaluator_messages = [\n",
    "            ChatMessage(role=\"system\", content=system_prompt_evaluator),\n",
    "            ChatMessage(role=\"user\", content=f\"Question:\\n{question}\\nReference answer:\\n{reference_answer}\\nNew answer:\\n{model_answer}\") \n",
    "        ]\n",
    "        '''\n",
    "\n",
    "        evaluator_answer = evaluator.ask(messages=evaluator_messages)\n",
    "\n",
    "        if \"true\" in evaluator_answer.lower().strip():\n",
    "            true_counts[model_name] += 1\n",
    "        total_counts[model_name] += 1\n",
    "\n",
    "# Calculate and display the results\n",
    "for model_name in true_counts:\n",
    "    accuracy = (true_counts[model_name] / total_counts[model_name]) * 100\n",
    "    print(f\"Model {model_name}: {accuracy:.2f}% True answers\")"
   ]
  },
  {
   "cell_type": "code",
   "execution_count": 7,
   "metadata": {},
   "outputs": [
    {
     "data": {
      "image/png": "[encoded data removed]",
      "text/plain": [
       "<Figure size 640x480 with 1 Axes>"
      ]
     },
     "metadata": {},
     "output_type": "display_data"
    }
   ],
   "source": [
    "import matplotlib.pyplot as plt\n",
    "\n",
    "# Calculate accuracies\n",
    "accuracies = {model_name: (true_counts[model_name] / total_counts[model_name]) * 100 for model_name in true_counts}\n",
    "\n",
    "# Names of models\n",
    "model_names = list(accuracies.keys())\n",
    "\n",
    "# Accuracy values\n",
    "accuracy_values = list(accuracies.values())\n",
    "\n",
    "# Create a bar chart\n",
    "plt.bar(model_names, accuracy_values, color='skyblue')\n",
    "\n",
    "# Adding title and labels\n",
    "plt.title('Model \"Factuality\" Comparison')\n",
    "plt.xlabel('Model Name')\n",
    "plt.ylabel('Accuracy (%)')\n",
    "\n",
    "# Save the plot as an image file\n",
    "plt.savefig('comparison.png')  #You can change the file name and format (e.g., .jpg, .png, etc.)\n",
    "\n",
    "# Show the plot\n",
    "plt.show()"
   ]
  },
  {
   "cell_type": "code",
   "execution_count": null,
   "metadata": {},
   "outputs": [],
   "source": []
  }
 ],
 "metadata": {
  "kernelspec": {
   "display_name": "Python 3",
   "language": "python",
   "name": "python3"
  },
  "language_info": {
   "codemirror_mode": {
    "name": "ipython",
    "version": 3
   },
   "file_extension": ".py",
   "mimetype": "text/x-python",
   "name": "python",
   "nbconvert_exporter": "python",
   "pygments_lexer": "ipython3",
   "version": "3.9.18"
  }
 },
 "nbformat": 4,
 "nbformat_minor": 2
}
