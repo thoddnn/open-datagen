{
 "cells": [
  {
   "cell_type": "code",
   "execution_count": null,
   "metadata": {},
   "outputs": [],
   "source": [
    "!pip install opendatagen --upgrade --force-reinstall"
   ]
  },
  {
   "cell_type": "code",
   "execution_count": null,
   "metadata": {},
   "outputs": [],
   "source": [
    "!export OPENAI_API_KEY='your_openai_api_key' \n",
    "!export MISTRAL_API_KEY='your_mistral_api_key'"
   ]
  },
  {
   "cell_type": "code",
   "execution_count": null,
   "metadata": {},
   "outputs": [],
   "source": [
    "#Code to generate the dataset  \n",
    "\n",
    "from opendatagen.data_generator import DataGenerator\n",
    "from opendatagen.template import TemplateManager\n",
    "\n",
    "template_file_path = \"template.json\"\n",
    "template_name = \"retrieval\"\n",
    "output_path = \"retrieval.csv\"\n",
    "\n",
    "manager = TemplateManager(template_file_path=template_file_path)\n",
    "\n",
    "template = manager.get_template(template_name=template_name)\n",
    "\n",
    "if template:\n",
    "    \n",
    "    generator = DataGenerator(template=template)\n",
    "    \n",
    "    data = generator.generate_data(output_path=output_path)\n",
    "    "
   ]
  }
 ],
 "metadata": {
  "kernelspec": {
   "display_name": "Python 3",
   "language": "python",
   "name": "python3"
  },
  "language_info": {
   "codemirror_mode": {
    "name": "ipython",
    "version": 3
   },
   "file_extension": ".py",
   "mimetype": "text/x-python",
   "name": "python",
   "nbconvert_exporter": "python",
   "pygments_lexer": "ipython3",
   "version": "3.9.18"
  }
 },
 "nbformat": 4,
 "nbformat_minor": 2
}
